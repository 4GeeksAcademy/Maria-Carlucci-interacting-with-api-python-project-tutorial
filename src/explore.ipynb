{
    "cells": [
        {
            "cell_type": "markdown",
            "metadata": {},
            "source": [
                "# Explore here"
            ]
        },
        {
            "cell_type": "code",
            "execution_count": 11,
            "metadata": {},
            "outputs": [
                {
                    "data": {
                        "text/plain": [
                            "True"
                        ]
                    },
                    "execution_count": 11,
                    "metadata": {},
                    "output_type": "execute_result"
                }
            ],
            "source": [
                "import os\n",
                "import pandas as pd\n",
                "import matplotlib.pyplot as plt\n",
                "from dotenv import load_dotenv\n",
                "import spotipy \n",
                "from spotipy.oauth2 import SpotifyClientCredentials\n",
                "\n",
                "# load the .env file variables\n",
                "load_dotenv()\n",
                "\n"
            ]
        },
        {
            "cell_type": "code",
            "execution_count": 3,
            "metadata": {},
            "outputs": [],
            "source": [
                "# Spotify API credentials\n",
                "client_id = os.environ.get(\"CLIENT_ID\")\n",
                "client_secret = os.environ.get(\"CLIENT_SECRET\")"
            ]
        },
        {
            "cell_type": "code",
            "execution_count": 4,
            "metadata": {},
            "outputs": [],
            "source": [
                "# Inicializar biblioteca Spotipy\n",
                "auth_manager = SpotifyClientCredentials(client_id=client_id, client_secret=client_secret)\n",
                "spotify = spotipy.Spotify(auth_manager=auth_manager)\n",
                "\n",
                "response = spotify.artist_top_tracks(\"4dpARuHxo51G3z768sgnrY\")\n",
                "\n",
                "canciones = []\n",
                "for s in response[\"tracks\"]:\n",
                "    canciones.append({\n",
                "        'name': s['name'],\n",
                "        'popularity': s['popularity'],\n",
                "        'duration_min': s['duration_ms'] / 60000\n",
                "    })"
            ]
        },
        {
            "cell_type": "code",
            "execution_count": 5,
            "metadata": {},
            "outputs": [
                {
                    "data": {
                        "text/html": [
                            "<div>\n",
                            "<style scoped>\n",
                            "    .dataframe tbody tr th:only-of-type {\n",
                            "        vertical-align: middle;\n",
                            "    }\n",
                            "\n",
                            "    .dataframe tbody tr th {\n",
                            "        vertical-align: top;\n",
                            "    }\n",
                            "\n",
                            "    .dataframe thead th {\n",
                            "        text-align: right;\n",
                            "    }\n",
                            "</style>\n",
                            "<table border=\"1\" class=\"dataframe\">\n",
                            "  <thead>\n",
                            "    <tr style=\"text-align: right;\">\n",
                            "      <th></th>\n",
                            "      <th>name</th>\n",
                            "      <th>popularity</th>\n",
                            "      <th>duration_min</th>\n",
                            "    </tr>\n",
                            "  </thead>\n",
                            "  <tbody>\n",
                            "    <tr>\n",
                            "      <th>0</th>\n",
                            "      <td>Easy On Me</td>\n",
                            "      <td>85</td>\n",
                            "      <td>3.744900</td>\n",
                            "    </tr>\n",
                            "    <tr>\n",
                            "      <th>1</th>\n",
                            "      <td>Set Fire to the Rain</td>\n",
                            "      <td>81</td>\n",
                            "      <td>4.049550</td>\n",
                            "    </tr>\n",
                            "    <tr>\n",
                            "      <th>2</th>\n",
                            "      <td>Someone Like You</td>\n",
                            "      <td>81</td>\n",
                            "      <td>4.754000</td>\n",
                            "    </tr>\n",
                            "    <tr>\n",
                            "      <th>3</th>\n",
                            "      <td>Rolling in the Deep</td>\n",
                            "      <td>80</td>\n",
                            "      <td>3.801550</td>\n",
                            "    </tr>\n",
                            "    <tr>\n",
                            "      <th>4</th>\n",
                            "      <td>Skyfall</td>\n",
                            "      <td>86</td>\n",
                            "      <td>4.774667</td>\n",
                            "    </tr>\n",
                            "    <tr>\n",
                            "      <th>5</th>\n",
                            "      <td>Love In The Dark</td>\n",
                            "      <td>77</td>\n",
                            "      <td>4.765583</td>\n",
                            "    </tr>\n",
                            "    <tr>\n",
                            "      <th>6</th>\n",
                            "      <td>Hometown Glory</td>\n",
                            "      <td>75</td>\n",
                            "      <td>4.520433</td>\n",
                            "    </tr>\n",
                            "    <tr>\n",
                            "      <th>7</th>\n",
                            "      <td>When We Were Young</td>\n",
                            "      <td>75</td>\n",
                            "      <td>4.848333</td>\n",
                            "    </tr>\n",
                            "    <tr>\n",
                            "      <th>8</th>\n",
                            "      <td>Chasing Pavements</td>\n",
                            "      <td>74</td>\n",
                            "      <td>3.508433</td>\n",
                            "    </tr>\n",
                            "    <tr>\n",
                            "      <th>9</th>\n",
                            "      <td>Hello</td>\n",
                            "      <td>74</td>\n",
                            "      <td>4.925033</td>\n",
                            "    </tr>\n",
                            "  </tbody>\n",
                            "</table>\n",
                            "</div>"
                        ],
                        "text/plain": [
                            "                   name  popularity  duration_min\n",
                            "0            Easy On Me          85      3.744900\n",
                            "1  Set Fire to the Rain          81      4.049550\n",
                            "2      Someone Like You          81      4.754000\n",
                            "3   Rolling in the Deep          80      3.801550\n",
                            "4               Skyfall          86      4.774667\n",
                            "5      Love In The Dark          77      4.765583\n",
                            "6        Hometown Glory          75      4.520433\n",
                            "7    When We Were Young          75      4.848333\n",
                            "8     Chasing Pavements          74      3.508433\n",
                            "9                 Hello          74      4.925033"
                        ]
                    },
                    "execution_count": 5,
                    "metadata": {},
                    "output_type": "execute_result"
                }
            ],
            "source": [
                "df = pd.DataFrame(canciones)\n",
                "df"
            ]
        },
        {
            "cell_type": "code",
            "execution_count": 6,
            "metadata": {},
            "outputs": [
                {
                    "data": {
                        "text/html": [
                            "<div>\n",
                            "<style scoped>\n",
                            "    .dataframe tbody tr th:only-of-type {\n",
                            "        vertical-align: middle;\n",
                            "    }\n",
                            "\n",
                            "    .dataframe tbody tr th {\n",
                            "        vertical-align: top;\n",
                            "    }\n",
                            "\n",
                            "    .dataframe thead th {\n",
                            "        text-align: right;\n",
                            "    }\n",
                            "</style>\n",
                            "<table border=\"1\" class=\"dataframe\">\n",
                            "  <thead>\n",
                            "    <tr style=\"text-align: right;\">\n",
                            "      <th></th>\n",
                            "      <th>name</th>\n",
                            "      <th>popularity</th>\n",
                            "      <th>duration_min</th>\n",
                            "    </tr>\n",
                            "  </thead>\n",
                            "  <tbody>\n",
                            "    <tr>\n",
                            "      <th>4</th>\n",
                            "      <td>Skyfall</td>\n",
                            "      <td>86</td>\n",
                            "      <td>4.774667</td>\n",
                            "    </tr>\n",
                            "    <tr>\n",
                            "      <th>0</th>\n",
                            "      <td>Easy On Me</td>\n",
                            "      <td>85</td>\n",
                            "      <td>3.744900</td>\n",
                            "    </tr>\n",
                            "    <tr>\n",
                            "      <th>1</th>\n",
                            "      <td>Set Fire to the Rain</td>\n",
                            "      <td>81</td>\n",
                            "      <td>4.049550</td>\n",
                            "    </tr>\n",
                            "  </tbody>\n",
                            "</table>\n",
                            "</div>"
                        ],
                        "text/plain": [
                            "                   name  popularity  duration_min\n",
                            "4               Skyfall          86      4.774667\n",
                            "0            Easy On Me          85      3.744900\n",
                            "1  Set Fire to the Rain          81      4.049550"
                        ]
                    },
                    "execution_count": 6,
                    "metadata": {},
                    "output_type": "execute_result"
                }
            ],
            "source": [
                "dftop3 = df.sort_values(by=\"popularity\", ascending=False).head(3)\n",
                "dftop3"
            ]
        },
        {
            "cell_type": "code",
            "execution_count": 7,
            "metadata": {},
            "outputs": [
                {
                    "data": {
                        "image/png": "[encoded data removed]",
                        "text/plain": [
                            "<Figure size 640x480 with 1 Axes>"
                        ]
                    },
                    "metadata": {},
                    "output_type": "display_data"
                }
            ],
            "source": [
                "plt.Figure(figsize=(10,6))\n",
                "plt.scatter(x=df[\"popularity\"],y=df[\"duration_min\"])\n",
                "plt.show();"
            ]
        },
        {
            "cell_type": "markdown",
            "metadata": {},
            "source": [
                "Analizando el grafico se puede ver que no tiene relacion la popularidad con la duracion de la cancion. Hay canciones mas cortas igual de populares"
            ]
        },
        {
            "cell_type": "code",
            "execution_count": 18,
            "metadata": {},
            "outputs": [
                {
                    "name": "stderr",
                    "output_type": "stream",
                    "text": [
                        "HTTP Error for GET to https://api.spotify.com/v1/audio-features/?ids=46IZ0fSY2mpAiktS3KOqds,73CMRj62VK8nUS4ezD2wvi,1zwMYTA5nlNjZxYrvBB2pV,1c8gk2PeTE04A1pIDH9YMk,6VObnIkLVruX4UVyxWhlqm,7B5Npv8NjjTCzk8PLpU66h,19QzuPTNZHJ2SEu5LCQTGI,7GgWAITsYJaRM3r50rfh5w,56pHllZT7QOacB0bP56ofx,62PaSfnXSMyLshYJrlTuL3 with Params: {} returned 403 due to None\n"
                    ]
                },
                {
                    "ename": "SpotifyException",
                    "evalue": "http status: 403, code:-1 - https://api.spotify.com/v1/audio-features/?ids=46IZ0fSY2mpAiktS3KOqds,73CMRj62VK8nUS4ezD2wvi,1zwMYTA5nlNjZxYrvBB2pV,1c8gk2PeTE04A1pIDH9YMk,6VObnIkLVruX4UVyxWhlqm,7B5Npv8NjjTCzk8PLpU66h,19QzuPTNZHJ2SEu5LCQTGI,7GgWAITsYJaRM3r50rfh5w,56pHllZT7QOacB0bP56ofx,62PaSfnXSMyLshYJrlTuL3:\n None, reason: None",
                    "output_type": "error",
                    "traceback": [
                        "\u001b[31m---------------------------------------------------------------------------\u001b[39m",
                        "\u001b[31mHTTPError\u001b[39m                                 Traceback (most recent call last)",
                        "\u001b[36mFile \u001b[39m\u001b[32m~/.local/lib/python3.11/site-packages/spotipy/client.py:271\u001b[39m, in \u001b[36mSpotify._internal_call\u001b[39m\u001b[34m(self, method, url, payload, params)\u001b[39m\n\u001b[32m    266\u001b[39m response = \u001b[38;5;28mself\u001b[39m._session.request(\n\u001b[32m    267\u001b[39m     method, url, headers=headers, proxies=\u001b[38;5;28mself\u001b[39m.proxies,\n\u001b[32m    268\u001b[39m     timeout=\u001b[38;5;28mself\u001b[39m.requests_timeout, **args\n\u001b[32m    269\u001b[39m )\n\u001b[32m--> \u001b[39m\u001b[32m271\u001b[39m \u001b[43mresponse\u001b[49m\u001b[43m.\u001b[49m\u001b[43mraise_for_status\u001b[49m\u001b[43m(\u001b[49m\u001b[43m)\u001b[49m\n\u001b[32m    272\u001b[39m results = response.json()\n",
                        "\u001b[36mFile \u001b[39m\u001b[32m~/.local/lib/python3.11/site-packages/requests/models.py:960\u001b[39m, in \u001b[36mResponse.raise_for_status\u001b[39m\u001b[34m(self)\u001b[39m\n\u001b[32m    959\u001b[39m \u001b[38;5;28;01mif\u001b[39;00m http_error_msg:\n\u001b[32m--> \u001b[39m\u001b[32m960\u001b[39m     \u001b[38;5;28;01mraise\u001b[39;00m HTTPError(http_error_msg, response=\u001b[38;5;28mself\u001b[39m)\n",
                        "\u001b[31mHTTPError\u001b[39m: 403 Client Error: Forbidden for url: https://api.spotify.com/v1/audio-features/?ids=46IZ0fSY2mpAiktS3KOqds,73CMRj62VK8nUS4ezD2wvi,1zwMYTA5nlNjZxYrvBB2pV,1c8gk2PeTE04A1pIDH9YMk,6VObnIkLVruX4UVyxWhlqm,7B5Npv8NjjTCzk8PLpU66h,19QzuPTNZHJ2SEu5LCQTGI,7GgWAITsYJaRM3r50rfh5w,56pHllZT7QOacB0bP56ofx,62PaSfnXSMyLshYJrlTuL3",
                        "\nDuring handling of the above exception, another exception occurred:\n",
                        "\u001b[31mSpotifyException\u001b[39m                          Traceback (most recent call last)",
                        "\u001b[36mCell\u001b[39m\u001b[36m \u001b[39m\u001b[32mIn[18]\u001b[39m\u001b[32m, line 2\u001b[39m\n\u001b[32m      1\u001b[39m track_ids = [track[\u001b[33m\"\u001b[39m\u001b[33mid\u001b[39m\u001b[33m\"\u001b[39m] \u001b[38;5;28;01mfor\u001b[39;00m track \u001b[38;5;129;01min\u001b[39;00m response[\u001b[33m\"\u001b[39m\u001b[33mtracks\u001b[39m\u001b[33m\"\u001b[39m]]\n\u001b[32m----> \u001b[39m\u001b[32m2\u001b[39m features = \u001b[43mspotify\u001b[49m\u001b[43m.\u001b[49m\u001b[43maudio_features\u001b[49m\u001b[43m(\u001b[49m\u001b[43mtrack_ids\u001b[49m\u001b[43m)\u001b[49m\n",
                        "\u001b[36mFile \u001b[39m\u001b[32m~/.local/lib/python3.11/site-packages/spotipy/client.py:1737\u001b[39m, in \u001b[36mSpotify.audio_features\u001b[39m\u001b[34m(self, tracks)\u001b[39m\n\u001b[32m   1735\u001b[39m \u001b[38;5;28;01melse\u001b[39;00m:\n\u001b[32m   1736\u001b[39m     tlist = [\u001b[38;5;28mself\u001b[39m._get_id(\u001b[33m\"\u001b[39m\u001b[33mtrack\u001b[39m\u001b[33m\"\u001b[39m, t) \u001b[38;5;28;01mfor\u001b[39;00m t \u001b[38;5;129;01min\u001b[39;00m tracks]\n\u001b[32m-> \u001b[39m\u001b[32m1737\u001b[39m     results = \u001b[38;5;28;43mself\u001b[39;49m\u001b[43m.\u001b[49m\u001b[43m_get\u001b[49m\u001b[43m(\u001b[49m\u001b[33;43m\"\u001b[39;49m\u001b[33;43maudio-features/?ids=\u001b[39;49m\u001b[33;43m\"\u001b[39;49m\u001b[43m \u001b[49m\u001b[43m+\u001b[49m\u001b[43m \u001b[49m\u001b[33;43m\"\u001b[39;49m\u001b[33;43m,\u001b[39;49m\u001b[33;43m\"\u001b[39;49m\u001b[43m.\u001b[49m\u001b[43mjoin\u001b[49m\u001b[43m(\u001b[49m\u001b[43mtlist\u001b[49m\u001b[43m)\u001b[49m\u001b[43m)\u001b[49m\n\u001b[32m   1738\u001b[39m \u001b[38;5;66;03m# the response has changed, look for the new style first, and if\u001b[39;00m\n\u001b[32m   1739\u001b[39m \u001b[38;5;66;03m# its not there, fallback on the old style\u001b[39;00m\n\u001b[32m   1740\u001b[39m \u001b[38;5;28;01mif\u001b[39;00m \u001b[33m\"\u001b[39m\u001b[33maudio_features\u001b[39m\u001b[33m\"\u001b[39m \u001b[38;5;129;01min\u001b[39;00m results:\n",
                        "\u001b[36mFile \u001b[39m\u001b[32m~/.local/lib/python3.11/site-packages/spotipy/client.py:323\u001b[39m, in \u001b[36mSpotify._get\u001b[39m\u001b[34m(self, url, args, payload, **kwargs)\u001b[39m\n\u001b[32m    320\u001b[39m \u001b[38;5;28;01mif\u001b[39;00m args:\n\u001b[32m    321\u001b[39m     kwargs.update(args)\n\u001b[32m--> \u001b[39m\u001b[32m323\u001b[39m \u001b[38;5;28;01mreturn\u001b[39;00m \u001b[38;5;28;43mself\u001b[39;49m\u001b[43m.\u001b[49m\u001b[43m_internal_call\u001b[49m\u001b[43m(\u001b[49m\u001b[33;43m\"\u001b[39;49m\u001b[33;43mGET\u001b[39;49m\u001b[33;43m\"\u001b[39;49m\u001b[43m,\u001b[49m\u001b[43m \u001b[49m\u001b[43murl\u001b[49m\u001b[43m,\u001b[49m\u001b[43m \u001b[49m\u001b[43mpayload\u001b[49m\u001b[43m,\u001b[49m\u001b[43m \u001b[49m\u001b[43mkwargs\u001b[49m\u001b[43m)\u001b[49m\n",
                        "\u001b[36mFile \u001b[39m\u001b[32m~/.local/lib/python3.11/site-packages/spotipy/client.py:293\u001b[39m, in \u001b[36mSpotify._internal_call\u001b[39m\u001b[34m(self, method, url, payload, params)\u001b[39m\n\u001b[32m    286\u001b[39m         reason = \u001b[38;5;28;01mNone\u001b[39;00m\n\u001b[32m    288\u001b[39m     logger.error(\n\u001b[32m    289\u001b[39m         \u001b[33m'\u001b[39m\u001b[33mHTTP Error for \u001b[39m\u001b[38;5;132;01m%s\u001b[39;00m\u001b[33m to \u001b[39m\u001b[38;5;132;01m%s\u001b[39;00m\u001b[33m with Params: \u001b[39m\u001b[38;5;132;01m%s\u001b[39;00m\u001b[33m returned \u001b[39m\u001b[38;5;132;01m%s\u001b[39;00m\u001b[33m due to \u001b[39m\u001b[38;5;132;01m%s\u001b[39;00m\u001b[33m'\u001b[39m,\n\u001b[32m    290\u001b[39m         method, url, args.get(\u001b[33m\"\u001b[39m\u001b[33mparams\u001b[39m\u001b[33m\"\u001b[39m), response.status_code, msg\n\u001b[32m    291\u001b[39m     )\n\u001b[32m--> \u001b[39m\u001b[32m293\u001b[39m     \u001b[38;5;28;01mraise\u001b[39;00m SpotifyException(\n\u001b[32m    294\u001b[39m         response.status_code,\n\u001b[32m    295\u001b[39m         -\u001b[32m1\u001b[39m,\n\u001b[32m    296\u001b[39m         \u001b[33m\"\u001b[39m\u001b[38;5;132;01m%s\u001b[39;00m\u001b[33m:\u001b[39m\u001b[38;5;130;01m\\n\u001b[39;00m\u001b[33m \u001b[39m\u001b[38;5;132;01m%s\u001b[39;00m\u001b[33m\"\u001b[39m % (response.url, msg),\n\u001b[32m    297\u001b[39m         reason=reason,\n\u001b[32m    298\u001b[39m         headers=response.headers,\n\u001b[32m    299\u001b[39m     )\n\u001b[32m    300\u001b[39m \u001b[38;5;28;01mexcept\u001b[39;00m requests.exceptions.RetryError \u001b[38;5;28;01mas\u001b[39;00m retry_error:\n\u001b[32m    301\u001b[39m     request = retry_error.request\n",
                        "\u001b[31mSpotifyException\u001b[39m: http status: 403, code:-1 - https://api.spotify.com/v1/audio-features/?ids=46IZ0fSY2mpAiktS3KOqds,73CMRj62VK8nUS4ezD2wvi,1zwMYTA5nlNjZxYrvBB2pV,1c8gk2PeTE04A1pIDH9YMk,6VObnIkLVruX4UVyxWhlqm,7B5Npv8NjjTCzk8PLpU66h,19QzuPTNZHJ2SEu5LCQTGI,7GgWAITsYJaRM3r50rfh5w,56pHllZT7QOacB0bP56ofx,62PaSfnXSMyLshYJrlTuL3:\n None, reason: None"
                    ]
                }
            ],
            "source": [
                "track_ids = [track[\"id\"] for track in response[\"tracks\"]]\n",
                "features = spotify.audio_features(track_ids)"
            ]
        }
    ],
    "metadata": {
        "kernelspec": {
            "display_name": "Python 3",
            "language": "python",
            "name": "python3"
        },
        "language_info": {
            "codemirror_mode": {
                "name": "ipython",
                "version": 3
            },
            "file_extension": ".py",
            "mimetype": "text/x-python",
            "name": "python",
            "nbconvert_exporter": "python",
            "pygments_lexer": "ipython3",
            "version": "3.11.4"
        },
        "orig_nbformat": 4
    },
    "nbformat": 4,
    "nbformat_minor": 2
}
